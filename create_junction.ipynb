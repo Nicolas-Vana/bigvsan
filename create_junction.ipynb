{
 "cells": [
  {
   "cell_type": "code",
   "execution_count": null,
   "metadata": {},
   "outputs": [],
   "source": [
    "import subprocess\n",
    "\n",
    "def create_junction(target, junction):\n",
    "    try:\n",
    "        subprocess.check_call(f'mklink /J \"{junction}\" \"{target}\"', shell=True)\n",
    "        print(f\"Junction created successfully: {junction} -> {target}\")\n",
    "    except subprocess.CalledProcessError as e:\n",
    "        print(f\"Error creating junction: {e}\")\n",
    "\n",
    "# Example usage\n",
    "target_path = r\"C:\\Users\\VT418680\\OneDrive - V.tal\\Documentos\\bigvsan\\LibriTTS\\dev-clean\"\n",
    "junction_name = \"dev-clean\"\n",
    "\n",
    "create_junction(target_path, junction_name)"
   ]
  }
 ],
 "metadata": {
  "language_info": {
   "name": "python"
  }
 },
 "nbformat": 4,
 "nbformat_minor": 2
}
