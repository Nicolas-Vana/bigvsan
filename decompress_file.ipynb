{
 "cells": [
  {
   "cell_type": "code",
   "execution_count": 2,
   "metadata": {},
   "outputs": [],
   "source": [
    "import tarfile\n",
    "import os\n",
    "\n",
    "def decompress_tar_gz(file_path, target_directory=None):\n",
    "    \"\"\"\n",
    "    Decompress a .tar.gz file.\n",
    "\n",
    "    Parameters:\n",
    "    file_path (str): The path to the .tar.gz file to decompress.\n",
    "    target_directory (str, optional): The directory to extract the files to.\n",
    "                                     If None, extracts in the current directory.\n",
    "    \"\"\"\n",
    "    if target_directory and not os.path.exists(target_directory):\n",
    "        os.makedirs(target_directory)\n",
    "\n",
    "    with tarfile.open(file_path, \"r:gz\") as tar:\n",
    "        tar.extractall(path=target_directory)\n",
    "\n",
    "# Example usage\n",
    "decompress_tar_gz(r'C:\\Users\\VT418680\\OneDrive - V.tal\\Documentos\\bigvsan\\LibriTTS\\dev-clean.tar.gz', r'C:\\Users\\VT418680\\OneDrive - V.tal\\Documentos\\bigvsan\\LibriTTS\\dev-clean')"
   ]
  },
  {
   "cell_type": "code",
   "execution_count": 3,
   "metadata": {},
   "outputs": [
    {
     "name": "stdout",
     "output_type": "stream",
     "text": [
      "Error creating symbolic link: [WinError 1314] O cliente não tem o privilégio necessário: 'C:\\\\Users\\\\VT418680\\\\OneDrive - V.tal\\\\Documentos\\\\bigvsan\\\\LibriTTS\\\\dev-clean' -> 'dev-clean'\n"
     ]
    }
   ],
   "source": [
    "import os\n",
    "\n",
    "def create_symlink(target, link_name):\n",
    "    try:\n",
    "        os.symlink(target, link_name)\n",
    "        print(f\"Symbolic link created successfully: {link_name} -> {target}\")\n",
    "    except OSError as e:\n",
    "        print(f\"Error creating symbolic link: {e}\")\n",
    "\n",
    "# Example usage\n",
    "# Replace 'target_path' with the actual path of your 'dev-clean' directory\n",
    "# and 'link_name' with the path where you want the symbolic link to be created\n",
    "target_path = r\"C:\\Users\\VT418680\\OneDrive - V.tal\\Documentos\\bigvsan\\LibriTTS\\dev-clean\"\n",
    "link_name = \"dev-clean\"\n",
    "\n",
    "create_symlink(target_path, link_name)"
   ]
  }
 ],
 "metadata": {
  "kernelspec": {
   "display_name": "bigvsan",
   "language": "python",
   "name": "python3"
  },
  "language_info": {
   "codemirror_mode": {
    "name": "ipython",
    "version": 3
   },
   "file_extension": ".py",
   "mimetype": "text/x-python",
   "name": "python",
   "nbconvert_exporter": "python",
   "pygments_lexer": "ipython3",
   "version": "3.11.5"
  }
 },
 "nbformat": 4,
 "nbformat_minor": 2
}
