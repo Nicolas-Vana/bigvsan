{
 "cells": [
  {
   "cell_type": "code",
   "execution_count": 1,
   "metadata": {},
   "outputs": [
    {
     "ename": "TypeError",
     "evalue": "expected str, bytes or os.PathLike object, not NoneType",
     "output_type": "error",
     "traceback": [
      "\u001b[1;31m---------------------------------------------------------------------------\u001b[0m",
      "\u001b[1;31mTypeError\u001b[0m                                 Traceback (most recent call last)",
      "\u001b[1;32mc:\\Users\\VT418680\\OneDrive - V.tal\\Documentos\\bigvsan\\decompress_file.ipynb Cell 1\u001b[0m line \u001b[0;36m2\n\u001b[0;32m     <a href='vscode-notebook-cell:/c%3A/Users/VT418680/OneDrive%20-%20V.tal/Documentos/bigvsan/decompress_file.ipynb#W0sZmlsZQ%3D%3D?line=16'>17</a>\u001b[0m         tar\u001b[39m.\u001b[39mextractall(path\u001b[39m=\u001b[39mtarget_directory)\n\u001b[0;32m     <a href='vscode-notebook-cell:/c%3A/Users/VT418680/OneDrive%20-%20V.tal/Documentos/bigvsan/decompress_file.ipynb#W0sZmlsZQ%3D%3D?line=18'>19</a>\u001b[0m \u001b[39m# Example usage\u001b[39;00m\n\u001b[1;32m---> <a href='vscode-notebook-cell:/c%3A/Users/VT418680/OneDrive%20-%20V.tal/Documentos/bigvsan/decompress_file.ipynb#W0sZmlsZQ%3D%3D?line=19'>20</a>\u001b[0m decompress_tar_gz(\u001b[39m\"\u001b[39;49m\u001b[39mmls_portuguese_opus.tar.gz\u001b[39;49m\u001b[39m\"\u001b[39;49m)\n",
      "\u001b[1;32mc:\\Users\\VT418680\\OneDrive - V.tal\\Documentos\\bigvsan\\decompress_file.ipynb Cell 1\u001b[0m line \u001b[0;36m1\n\u001b[0;32m     <a href='vscode-notebook-cell:/c%3A/Users/VT418680/OneDrive%20-%20V.tal/Documentos/bigvsan/decompress_file.ipynb#W0sZmlsZQ%3D%3D?line=13'>14</a>\u001b[0m     os\u001b[39m.\u001b[39mmakedirs(target_directory)\n\u001b[0;32m     <a href='vscode-notebook-cell:/c%3A/Users/VT418680/OneDrive%20-%20V.tal/Documentos/bigvsan/decompress_file.ipynb#W0sZmlsZQ%3D%3D?line=15'>16</a>\u001b[0m \u001b[39mwith\u001b[39;00m tarfile\u001b[39m.\u001b[39mopen(file_path, \u001b[39m\"\u001b[39m\u001b[39mr:gz\u001b[39m\u001b[39m\"\u001b[39m) \u001b[39mas\u001b[39;00m tar:\n\u001b[1;32m---> <a href='vscode-notebook-cell:/c%3A/Users/VT418680/OneDrive%20-%20V.tal/Documentos/bigvsan/decompress_file.ipynb#W0sZmlsZQ%3D%3D?line=16'>17</a>\u001b[0m     tar\u001b[39m.\u001b[39;49mextractall(path\u001b[39m=\u001b[39;49mtarget_directory)\n",
      "File \u001b[1;32mc:\\Users\\VT418680\\AppData\\Local\\anaconda3\\envs\\bigvsan\\Lib\\tarfile.py:2264\u001b[0m, in \u001b[0;36mTarFile.extractall\u001b[1;34m(self, path, members, numeric_owner, filter)\u001b[0m\n\u001b[0;32m   2259\u001b[0m     \u001b[39mif\u001b[39;00m tarinfo\u001b[39m.\u001b[39misdir():\n\u001b[0;32m   2260\u001b[0m         \u001b[39m# For directories, delay setting attributes until later,\u001b[39;00m\n\u001b[0;32m   2261\u001b[0m         \u001b[39m# since permissions can interfere with extraction and\u001b[39;00m\n\u001b[0;32m   2262\u001b[0m         \u001b[39m# extracting contents can reset mtime.\u001b[39;00m\n\u001b[0;32m   2263\u001b[0m         directories\u001b[39m.\u001b[39mappend(tarinfo)\n\u001b[1;32m-> 2264\u001b[0m     \u001b[39mself\u001b[39;49m\u001b[39m.\u001b[39;49m_extract_one(tarinfo, path, set_attrs\u001b[39m=\u001b[39;49m\u001b[39mnot\u001b[39;49;00m tarinfo\u001b[39m.\u001b[39;49misdir(),\n\u001b[0;32m   2265\u001b[0m                       numeric_owner\u001b[39m=\u001b[39;49mnumeric_owner)\n\u001b[0;32m   2267\u001b[0m \u001b[39m# Reverse sort directories.\u001b[39;00m\n\u001b[0;32m   2268\u001b[0m directories\u001b[39m.\u001b[39msort(key\u001b[39m=\u001b[39m\u001b[39mlambda\u001b[39;00m a: a\u001b[39m.\u001b[39mname, reverse\u001b[39m=\u001b[39m\u001b[39mTrue\u001b[39;00m)\n",
      "File \u001b[1;32mc:\\Users\\VT418680\\AppData\\Local\\anaconda3\\envs\\bigvsan\\Lib\\tarfile.py:2327\u001b[0m, in \u001b[0;36mTarFile._extract_one\u001b[1;34m(self, tarinfo, path, set_attrs, numeric_owner)\u001b[0m\n\u001b[0;32m   2324\u001b[0m \u001b[39mself\u001b[39m\u001b[39m.\u001b[39m_check(\u001b[39m\"\u001b[39m\u001b[39mr\u001b[39m\u001b[39m\"\u001b[39m)\n\u001b[0;32m   2326\u001b[0m \u001b[39mtry\u001b[39;00m:\n\u001b[1;32m-> 2327\u001b[0m     \u001b[39mself\u001b[39m\u001b[39m.\u001b[39m_extract_member(tarinfo, os\u001b[39m.\u001b[39;49mpath\u001b[39m.\u001b[39;49mjoin(path, tarinfo\u001b[39m.\u001b[39;49mname),\n\u001b[0;32m   2328\u001b[0m                          set_attrs\u001b[39m=\u001b[39mset_attrs,\n\u001b[0;32m   2329\u001b[0m                          numeric_owner\u001b[39m=\u001b[39mnumeric_owner)\n\u001b[0;32m   2330\u001b[0m \u001b[39mexcept\u001b[39;00m \u001b[39mOSError\u001b[39;00m \u001b[39mas\u001b[39;00m e:\n\u001b[0;32m   2331\u001b[0m     \u001b[39mself\u001b[39m\u001b[39m.\u001b[39m_handle_fatal_error(e)\n",
      "File \u001b[1;32m<frozen ntpath>:108\u001b[0m, in \u001b[0;36mjoin\u001b[1;34m(path, *paths)\u001b[0m\n",
      "\u001b[1;31mTypeError\u001b[0m: expected str, bytes or os.PathLike object, not NoneType"
     ]
    }
   ],
   "source": [
    "import tarfile\n",
    "import os\n",
    "\n",
    "def decompress_tar_gz(file_path, target_directory=None):\n",
    "    \"\"\"\n",
    "    Decompress a .tar.gz file.\n",
    "\n",
    "    Parameters:\n",
    "    file_path (str): The path to the .tar.gz file to decompress.\n",
    "    target_directory (str, optional): The directory to extract the files to.\n",
    "                                     If None, extracts in the current directory.\n",
    "    \"\"\"\n",
    "    if target_directory and not os.path.exists(target_directory):\n",
    "        os.makedirs(target_directory)\n",
    "\n",
    "    with tarfile.open(file_path, \"r:gz\") as tar:\n",
    "        tar.extractall(path=target_directory)\n",
    "\n",
    "# Example usage\n",
    "decompress_tar_gz(\"mls_portuguese_opus.tar.gz\")"
   ]
  },
  {
   "cell_type": "code",
   "execution_count": null,
   "metadata": {},
   "outputs": [],
   "source": []
  }
 ],
 "metadata": {
  "kernelspec": {
   "display_name": "bigvsan",
   "language": "python",
   "name": "python3"
  },
  "language_info": {
   "codemirror_mode": {
    "name": "ipython",
    "version": 3
   },
   "file_extension": ".py",
   "mimetype": "text/x-python",
   "name": "python",
   "nbconvert_exporter": "python",
   "pygments_lexer": "ipython3",
   "version": "3.11.5"
  }
 },
 "nbformat": 4,
 "nbformat_minor": 2
}
